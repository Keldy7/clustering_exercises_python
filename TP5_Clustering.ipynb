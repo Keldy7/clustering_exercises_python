{
 "cells": [
  {
   "cell_type": "code",
   "execution_count": null,
   "metadata": {},
   "outputs": [],
   "source": [
    "# Importation des librairies\n",
    "import pandas as pd\n",
    "from sklearn.preprocessing import StandardScaler\n",
    "from sklearn.cluster import DBSCAN\n",
    "from sklearn.metrics import silhouette_score, pairwise_distances, homogeneity_score\n",
    "from scipy.cluster.hierarchy import dendrogram, linkage\n",
    "import matplotlib.pyplot as plt\n"
   ]
  },
  {
   "cell_type": "markdown",
   "metadata": {},
   "source": [
    "# Étape 1: Chargement du dataset"
   ]
  },
  {
   "cell_type": "code",
   "execution_count": null,
   "metadata": {},
   "outputs": [],
   "source": [
    "dataset = pd.read_csv(\"./Fichiers de données/UNSW_NB15_training-set.csv\")"
   ]
  },
  {
   "cell_type": "code",
   "execution_count": null,
   "metadata": {},
   "outputs": [],
   "source": [
    "dataset"
   ]
  },
  {
   "cell_type": "markdown",
   "metadata": {},
   "source": [
    "# Étape 2: Prétraitement des données"
   ]
  },
  {
   "cell_type": "code",
   "execution_count": null,
   "metadata": {},
   "outputs": [],
   "source": [
    "# Nature des données\n",
    "dataset.info()"
   ]
  },
  {
   "cell_type": "code",
   "execution_count": null,
   "metadata": {},
   "outputs": [],
   "source": [
    "# Nettoyage des données\n",
    "dataset.drop_duplicates(inplace=True)\n",
    "dataset.dropna(inplace=True)"
   ]
  },
  {
   "cell_type": "code",
   "execution_count": null,
   "metadata": {},
   "outputs": [],
   "source": [
    "# Normalisation des données numériques\n",
    "scaler = StandardScaler()\n",
    "numeric_features = dataset.select_dtypes(include=['float64', 'int64']).columns\n",
    "X_scaled = scaler.fit_transform(dataset[numeric_features])"
   ]
  },
  {
   "cell_type": "code",
   "execution_count": null,
   "metadata": {},
   "outputs": [],
   "source": [
    "dataset.info()"
   ]
  },
  {
   "cell_type": "markdown",
   "metadata": {},
   "source": [
    "# Etape 3: Sélection des caractéristiques pertinentes"
   ]
  },
  {
   "cell_type": "code",
   "execution_count": null,
   "metadata": {},
   "outputs": [],
   "source": [
    "selected_features = ['dur', 'spkts', 'dpkts', 'sbytes', 'dbytes', 'rate', 'sloss', 'dloss', 'sinpkt', 'dinpkt', 'sjit', 'djit', 'swin', 'dwin', 'tcprtt', 'synack', 'ackdat', 'smean', 'dmean']\n",
    "X = X_scaled[selected_features]"
   ]
  },
  {
   "cell_type": "markdown",
   "metadata": {},
   "source": [
    "# Étape 4: Clustering par densité"
   ]
  },
  {
   "cell_type": "code",
   "execution_count": null,
   "metadata": {},
   "outputs": [],
   "source": [
    "dbscan_model = DBSCAN(eps=0.7, min_samples=10)"
   ]
  },
  {
   "cell_type": "code",
   "execution_count": null,
   "metadata": {},
   "outputs": [],
   "source": [
    "pred_model = dbscan_model.fit_predict(X_scaled)"
   ]
  },
  {
   "cell_type": "code",
   "execution_count": null,
   "metadata": {},
   "outputs": [],
   "source": [
    "print(\"Score de silhouette: \", silhouette_score(X_scaled, pred_model))"
   ]
  },
  {
   "cell_type": "code",
   "execution_count": null,
   "metadata": {},
   "outputs": [],
   "source": [
    "# Calcul du dendrogramme pour visualiser la structure hiérarchique des clusters\n",
    "linked = linkage(X_scaled, method='complete', metric='euclidean')\n",
    "plt.figure(figsize=(10, 7))\n",
    "dendrogram(linked,distance_sort='descending')\n",
    "plt.title('Dendrogramme des clusters')\n",
    "plt.xlabel('Échantillons')\n",
    "plt.show()"
   ]
  },
  {
   "cell_type": "code",
   "execution_count": 14,
   "metadata": {},
   "outputs": [
    {
     "name": "stdout",
     "output_type": "stream",
     "text": [
      "Score de silhouette pour DBSCAN: 0.33375896520035386\n",
      "Points de données considérés comme des anomalies avec DBSCAN:             dur     spkts     dpkts    sbytes    dbytes      rate     sloss  \\\n",
      "227    6.482613 -0.109520 -0.151816 -0.045525 -0.087369 -0.554509 -0.027126   \n",
      "228    5.984346 -0.109520 -0.151816 -0.045525 -0.087369 -0.554509 -0.027126   \n",
      "229    6.323438 -0.109520 -0.151816 -0.045525 -0.087369 -0.554509 -0.027126   \n",
      "230    6.323438 -0.109520 -0.151816 -0.045525 -0.087369 -0.554509 -0.027126   \n",
      "231    5.606124 -0.109520 -0.151816 -0.045525 -0.087369 -0.554509 -0.027126   \n",
      "...         ...       ...       ...       ...       ...       ...       ...   \n",
      "81962  0.188307 -0.094586 -0.134511 -0.040759 -0.086801 -0.554485 -0.042594   \n",
      "81973  0.131128 -0.094586 -0.134511 -0.040759 -0.086801 -0.554480 -0.042594   \n",
      "82085 -0.099141 -0.064716 -0.099901 -0.043462 -0.085599 -0.554322 -0.042594   \n",
      "82087 -0.099141 -0.064716 -0.099901 -0.043462 -0.085599 -0.554322 -0.042594   \n",
      "82092 -0.040343  0.114501 -0.082596  0.152854 -0.085032 -0.554172  0.143023   \n",
      "\n",
      "          dloss    sinpkt     dinpkt       sjit       djit      swin  \\\n",
      "227   -0.113244  1.578434  -0.094169   0.149959  -0.147218  0.954338   \n",
      "228   -0.113244  1.451893  -0.094169   0.130454  -0.147218  0.954338   \n",
      "229   -0.113244  1.538010  -0.094169   0.143728  -0.147218  0.954338   \n",
      "230   -0.113244  1.538010  -0.094169   0.143728  -0.147218  0.954338   \n",
      "231   -0.113244  1.355839  -0.094169   0.115648  -0.147218  0.954338   \n",
      "...         ...       ...        ...        ...        ...       ...   \n",
      "81962 -0.095293 -0.060920  -0.094164   0.266784  -0.147218  0.954338   \n",
      "81973 -0.095293 -0.069633  -0.094165   0.174786  -0.147218  0.954338   \n",
      "82085 -0.113244  1.664475  14.140667  19.265357  11.117324  0.954338   \n",
      "82087 -0.113244  1.664475  14.140667  19.265357  11.117324  0.954338   \n",
      "82092 -0.095293 -0.118323  -0.025034  -0.074593  -0.114782  0.954338   \n",
      "\n",
      "           dwin     tcprtt     synack     ackdat     smean     dmean  \n",
      "227   -1.006244  -0.482025  -0.412910  -0.484073 -0.453438 -0.475371  \n",
      "228   -1.006244  -0.482025  -0.412910  -0.484073 -0.453438 -0.475371  \n",
      "229   -1.006244  -0.482025  -0.412910  -0.484073 -0.453438 -0.475371  \n",
      "230   -1.006244  -0.482025  -0.412910  -0.484073 -0.453438 -0.475371  \n",
      "231   -1.006244  -0.482025  -0.412910  -0.484073 -0.453438 -0.475371  \n",
      "...         ...        ...        ...        ...       ...       ...  \n",
      "81962  0.993904  12.065507  11.163480  11.051924  0.126979 -0.299572  \n",
      "81973  0.993904   6.990170   5.087627   8.177649  0.126979 -0.299572  \n",
      "82085  0.993904   1.918350   0.924548   2.850840 -0.415063 -0.291396  \n",
      "82087  0.993904   1.918350   0.924548   2.850840 -0.415063 -0.291396  \n",
      "82092  0.993904   1.691856   2.286860   0.621853  4.161117 -0.295484  \n",
      "\n",
      "[1818 rows x 19 columns]\n"
     ]
    }
   ],
   "source": [
    "import pandas as pd\n",
    "from sklearn.preprocessing import StandardScaler\n",
    "from sklearn.cluster import DBSCAN\n",
    "from sklearn.metrics import silhouette_score\n",
    "\n",
    "\n",
    "# Normalisation des données numériques\n",
    "scaler = StandardScaler()\n",
    "numeric_features = dataset.select_dtypes(include=['float64', 'int64']).columns\n",
    "dataset[numeric_features] = scaler.fit_transform(dataset[numeric_features])\n",
    "\n",
    "# Étape 2: Sélection des caractéristiques pertinentes\n",
    "X = dataset[selected_features]\n",
    "\n",
    "# Étape 3: Application de l'algorithme DBSCAN\n",
    "epsilon = 0.7\n",
    "min_samples = 10\n",
    "dbscan_model = DBSCAN(eps=epsilon, min_samples=min_samples)\n",
    "clusters_dbscan = dbscan_model.fit_predict(X)\n",
    "\n",
    "# Étape 4: Évaluation du clustering avec le score de silhouette\n",
    "silhouette_avg_dbscan = silhouette_score(X, clusters_dbscan)\n",
    "print(\"Score de silhouette pour DBSCAN:\", silhouette_avg_dbscan)\n",
    "\n",
    "anomalies_dbscan = X[clusters_dbscan == -1]\n",
    "print(\"Points de données considérés comme des anomalies avec DBSCAN:\", anomalies_dbscan)\n",
    "\n"
   ]
  },
  {
   "cell_type": "code",
   "execution_count": 17,
   "metadata": {},
   "outputs": [
    {
     "data": {
      "image/png": "[encoded data removed]",
      "text/plain": [
       "<Figure size 640x480 with 1 Axes>"
      ]
     },
     "metadata": {},
     "output_type": "display_data"
    }
   ],
   "source": [
    "# Visualisation des résultats\n",
    "import matplotlib.pyplot as plt\n",
    "\n",
    "plt.scatter(X.iloc[:, 0], X.iloc[:, 1], c=clusters_dbscan)\n",
    "plt.scatter(anomalies_dbscan.iloc[:,  0], anomalies_dbscan.iloc[:, 1])\n",
    "plt.title('DBSCAN Clustering')\n",
    "plt.show()"
   ]
  }
 ],
 "metadata": {
  "kernelspec": {
   "display_name": "Python 3",
   "language": "python",
   "name": "python3"
  },
  "language_info": {
   "codemirror_mode": {
    "name": "ipython",
    "version": 3
   },
   "file_extension": ".py",
   "mimetype": "text/x-python",
   "name": "python",
   "nbconvert_exporter": "python",
   "pygments_lexer": "ipython3",
   "version": "3.11.9"
  }
 },
 "nbformat": 4,
 "nbformat_minor": 2
}
